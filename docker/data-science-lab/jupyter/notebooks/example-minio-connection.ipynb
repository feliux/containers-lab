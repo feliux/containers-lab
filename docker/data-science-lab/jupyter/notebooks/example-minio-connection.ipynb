{
 "cells": [
  {
   "cell_type": "markdown",
   "metadata": {},
   "source": [
    "### About\n",
    "\n",
    "This notebook shows the connection to the minio service."
   ]
  },
  {
   "cell_type": "markdown",
   "metadata": {},
   "source": [
    "#### Setup"
   ]
  },
  {
   "cell_type": "code",
   "execution_count": 1,
   "metadata": {},
   "outputs": [],
   "source": [
    "import os\n",
    "from minio import Minio\n",
    "\n",
    "# Create a connection to the object store\n",
    "minio_client = Minio(\n",
    "    endpoint=\"minio:9000\",\n",
    "    access_key=os.environ[\"MINIO_ACCESS_KEY\"],\n",
    "    secret_key=os.environ[\"MINIO_SECRET_KEY\"],\n",
    "    secure=False)\n",
    "\n",
    "# Write a sample file\n",
    "with open(\"sample.txt\", \"w\") as f:\n",
    "    f.write(\"This is just a sample text\")"
   ]
  },
  {
   "cell_type": "markdown",
   "metadata": {},
   "source": [
    "#### Write Data"
   ]
  },
  {
   "cell_type": "code",
   "execution_count": 2,
   "metadata": {},
   "outputs": [
    {
     "data": {
      "text/plain": [
       "('208ee96fcb544b4f59f19a7d4c10fd9d', None)"
      ]
     },
     "execution_count": 2,
     "metadata": {},
     "output_type": "execute_result"
    }
   ],
   "source": [
    "# Create a minio bucket\n",
    "minio_client.make_bucket(\"sample-bucket\")\n",
    "\n",
    "# Write the object to minio\n",
    "minio_client.fput_object(\n",
    "    bucket_name=\"sample-bucket\", \n",
    "    object_name=\"sample-file.txt\", \n",
    "    file_path=\"./sample.txt\")"
   ]
  },
  {
   "cell_type": "markdown",
   "metadata": {},
   "source": [
    "#### Read Data"
   ]
  },
  {
   "cell_type": "code",
   "execution_count": 3,
   "metadata": {},
   "outputs": [
    {
     "data": {
      "text/plain": [
       "'This is just a sample text'"
      ]
     },
     "execution_count": 3,
     "metadata": {},
     "output_type": "execute_result"
    }
   ],
   "source": [
    "minio_client.get_object(\"sample-bucket\", \"sample-file.txt\").data.decode()"
   ]
  }
 ],
 "metadata": {
  "kernelspec": {
   "display_name": "Python 3",
   "language": "python",
   "name": "python3"
  },
  "language_info": {
   "codemirror_mode": {
    "name": "ipython",
    "version": 3
   },
   "file_extension": ".py",
   "mimetype": "text/x-python",
   "name": "python",
   "nbconvert_exporter": "python",
   "pygments_lexer": "ipython3",
   "version": "3.7.6"
  }
 },
 "nbformat": 4,
 "nbformat_minor": 2
}
